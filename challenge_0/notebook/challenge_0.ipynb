{
  "cells": [
    {
      "cell_type": "markdown",
      "id": "2adzcfnbRZZY",
      "metadata": {
        "id": "2adzcfnbRZZY"
      },
      "source": [
        "# Challenge $0$\n"
      ]
    },
    {
      "cell_type": "markdown",
      "id": "eccd6e67",
      "metadata": {
        "id": "eccd6e67"
      },
      "source": [
        "## 1. ***Data cleaning with Pandas***\n",
        "\n",
        "Use the library `pandas` to load and clean the required dataset."
      ]
    },
    {
      "cell_type": "code",
      "execution_count": 1,
      "id": "39ae18d1",
      "metadata": {
        "id": "39ae18d1"
      },
      "outputs": [],
      "source": [
        "import numpy as np\n",
        "import matplotlib.pyplot as plt\n",
        "plt.rc(\"font\", size=14)\n",
        "import pandas as pd\n",
        "import numpy.linalg as LA\n",
        "import wget\n",
        "import os\n",
        "import seaborn as sns\n",
        "sns.set(style=\"white\")\n",
        "sns.set(style=\"whitegrid\", color_codes=True)"
      ]
    },
    {
      "cell_type": "markdown",
      "id": "6XPiwcNUPJAw",
      "metadata": {
        "id": "6XPiwcNUPJAw"
      },
      "source": [
        "Obtain the data file"
      ]
    },
    {
      "cell_type": "code",
      "execution_count": 2,
      "id": "AkGFWaHZOi-l",
      "metadata": {
        "colab": {
          "base_uri": "https://localhost:8080/"
        },
        "id": "AkGFWaHZOi-l",
        "outputId": "d3f5701e-813f-4a20-b4f6-9a696a13db68"
      },
      "outputs": [
        {
          "name": "stdout",
          "output_type": "stream",
          "text": [
            "File already exists\n",
            "File is readable\n"
          ]
        }
      ],
      "source": [
        "FFILE = './50_Startups.csv'\n",
        "if os.path.isfile(FFILE):\n",
        "    print(\"File already exists\")\n",
        "    if os.access(FFILE, os.R_OK):\n",
        "        print (\"File is readable\")\n",
        "    else:\n",
        "        print (\"File is not readable, removing it and downloading again\")\n",
        "        !rm FFILE\n",
        "        wget.download(\"https://raw.github.com/alexdepremia/ML_IADA_UTs/main/challenge_0/50_Startups.csv\")\n",
        "else:\n",
        "    print(\"Either the file is missing or not readable, download it\")\n",
        "    wget.download(\"https://raw.github.com/alexdepremia/ML_IADA_UTs/main/challenge_0/50_Startups.csv\")"
      ]
    },
    {
      "cell_type": "code",
      "execution_count": 3,
      "id": "984f3c35",
      "metadata": {
        "id": "984f3c35"
      },
      "outputs": [],
      "source": [
        "# Load the dataset using Pandas\n",
        "data = pd.read_csv('50_Startups.csv')\n",
        "\n",
        "# Extracting the features (independent variables) and labels (dependent variable)\n",
        "# Features (X) are taken from all columns except the last two\n",
        "features = data.iloc[:, :-2].values\n",
        "\n",
        "# Labels (y) are taken from the third column (index 3, considering the 0-based index in Python)\n",
        "labels = data.iloc[:, 3].values\n",
        "\n",
        "df = pd.DataFrame(data)"
      ]
    },
    {
      "cell_type": "markdown",
      "id": "6c52b5bb",
      "metadata": {
        "id": "6c52b5bb"
      },
      "source": [
        "***Play with data***"
      ]
    },
    {
      "cell_type": "code",
      "execution_count": 4,
      "id": "6bc66e09",
      "metadata": {
        "colab": {
          "base_uri": "https://localhost:8080/"
        },
        "id": "6bc66e09",
        "outputId": "b6caed56-df56-4145-e1e3-74da105f824a",
        "scrolled": true
      },
      "outputs": [],
      "source": [
        "df.shape\n",
        "numeric_columns = df.select_dtypes(include=['float64', 'int64']).columns"
      ]
    },
    {
      "cell_type": "code",
      "execution_count": 5,
      "id": "9f5107f7",
      "metadata": {
        "colab": {
          "base_uri": "https://localhost:8080/",
          "height": 263
        },
        "id": "9f5107f7",
        "outputId": "5bb6e213-9082-45a4-b49d-515803201e70"
      },
      "outputs": [
        {
          "data": {
            "text/html": [
              "<div>\n",
              "<style scoped>\n",
              "    .dataframe tbody tr th:only-of-type {\n",
              "        vertical-align: middle;\n",
              "    }\n",
              "\n",
              "    .dataframe tbody tr th {\n",
              "        vertical-align: top;\n",
              "    }\n",
              "\n",
              "    .dataframe thead th {\n",
              "        text-align: right;\n",
              "    }\n",
              "</style>\n",
              "<table border=\"1\" class=\"dataframe\">\n",
              "  <thead>\n",
              "    <tr style=\"text-align: right;\">\n",
              "      <th></th>\n",
              "      <th>R&amp;D Spend</th>\n",
              "      <th>Administration</th>\n",
              "      <th>Marketing Spend</th>\n",
              "      <th>State</th>\n",
              "      <th>Profit</th>\n",
              "    </tr>\n",
              "  </thead>\n",
              "  <tbody>\n",
              "    <tr>\n",
              "      <th>0</th>\n",
              "      <td>165349.20</td>\n",
              "      <td>136897.80</td>\n",
              "      <td>471784.10</td>\n",
              "      <td>New York</td>\n",
              "      <td>192261.83</td>\n",
              "    </tr>\n",
              "    <tr>\n",
              "      <th>1</th>\n",
              "      <td>162597.70</td>\n",
              "      <td>151377.59</td>\n",
              "      <td>443898.53</td>\n",
              "      <td>California</td>\n",
              "      <td>191792.06</td>\n",
              "    </tr>\n",
              "    <tr>\n",
              "      <th>2</th>\n",
              "      <td>153441.51</td>\n",
              "      <td>101145.55</td>\n",
              "      <td>407934.54</td>\n",
              "      <td>Florida</td>\n",
              "      <td>191050.39</td>\n",
              "    </tr>\n",
              "    <tr>\n",
              "      <th>3</th>\n",
              "      <td>144372.41</td>\n",
              "      <td>118671.85</td>\n",
              "      <td>383199.62</td>\n",
              "      <td>New York</td>\n",
              "      <td>182901.99</td>\n",
              "    </tr>\n",
              "    <tr>\n",
              "      <th>4</th>\n",
              "      <td>142107.34</td>\n",
              "      <td>91391.77</td>\n",
              "      <td>366168.42</td>\n",
              "      <td>Florida</td>\n",
              "      <td>166187.94</td>\n",
              "    </tr>\n",
              "  </tbody>\n",
              "</table>\n",
              "</div>"
            ],
            "text/plain": [
              "   R&D Spend  Administration  Marketing Spend       State     Profit\n",
              "0  165349.20       136897.80        471784.10    New York  192261.83\n",
              "1  162597.70       151377.59        443898.53  California  191792.06\n",
              "2  153441.51       101145.55        407934.54     Florida  191050.39\n",
              "3  144372.41       118671.85        383199.62    New York  182901.99\n",
              "4  142107.34        91391.77        366168.42     Florida  166187.94"
            ]
          },
          "execution_count": 5,
          "metadata": {},
          "output_type": "execute_result"
        }
      ],
      "source": [
        "# Sostituisci i valori 0 solo nelle colonne numeriche con la media della colonna\n",
        "df[numeric_columns] = df[numeric_columns].replace(to_replace=0.0, value=df[numeric_columns].mean())\n",
        "df\n",
        "df.head()"
      ]
    },
    {
      "cell_type": "markdown",
      "id": "c-RZI0p4Q7TW",
      "metadata": {
        "id": "c-RZI0p4Q7TW"
      },
      "source": [
        " **`df.replace()` function:**\n",
        "   - This function is used to replace specific values within a DataFrame (`df`) with another value.\n",
        "   - The parameters used are:\n",
        "     - `to_replace=0.00`: This specifies the value in the DataFrame that needs to be replaced, in this case, `0.00`.\n",
        "     - `value=df.mean(axis=0)`: This sets the replacement value for the matched condition. Here, `df.mean(axis=0)` calculates the mean for each column along the rows (axis=0) of the DataFrame `df`. The mean value for each column will replace the `0.00` values.\n",
        "     - `inplace=True`: This parameter ensures that the modification is done directly on the original DataFrame (`df`) without creating a new DataFrame. If `inplace` is set to `True`, the original DataFrame is modified."
      ]
    },
    {
      "cell_type": "markdown",
      "id": "3bfef008",
      "metadata": {
        "id": "3bfef008"
      },
      "source": [
        "***Select two categories for binary classification***"
      ]
    },
    {
      "cell_type": "code",
      "execution_count": 6,
      "id": "57f10ca0",
      "metadata": {
        "id": "57f10ca0"
      },
      "outputs": [],
      "source": [
        "df_sel=df[(df.State==\"California\") | (df.State==\"Florida\")]"
      ]
    },
    {
      "cell_type": "code",
      "execution_count": 7,
      "id": "add6c146",
      "metadata": {
        "colab": {
          "base_uri": "https://localhost:8080/",
          "height": 206
        },
        "id": "add6c146",
        "outputId": "0f681332-4913-47f8-8640-f7db53b8b7e8"
      },
      "outputs": [
        {
          "data": {
            "text/html": [
              "<div>\n",
              "<style scoped>\n",
              "    .dataframe tbody tr th:only-of-type {\n",
              "        vertical-align: middle;\n",
              "    }\n",
              "\n",
              "    .dataframe tbody tr th {\n",
              "        vertical-align: top;\n",
              "    }\n",
              "\n",
              "    .dataframe thead th {\n",
              "        text-align: right;\n",
              "    }\n",
              "</style>\n",
              "<table border=\"1\" class=\"dataframe\">\n",
              "  <thead>\n",
              "    <tr style=\"text-align: right;\">\n",
              "      <th></th>\n",
              "      <th>R&amp;D Spend</th>\n",
              "      <th>Administration</th>\n",
              "      <th>Marketing Spend</th>\n",
              "      <th>State</th>\n",
              "      <th>Profit</th>\n",
              "    </tr>\n",
              "  </thead>\n",
              "  <tbody>\n",
              "    <tr>\n",
              "      <th>1</th>\n",
              "      <td>162597.70</td>\n",
              "      <td>151377.59</td>\n",
              "      <td>443898.53</td>\n",
              "      <td>California</td>\n",
              "      <td>191792.06</td>\n",
              "    </tr>\n",
              "    <tr>\n",
              "      <th>2</th>\n",
              "      <td>153441.51</td>\n",
              "      <td>101145.55</td>\n",
              "      <td>407934.54</td>\n",
              "      <td>Florida</td>\n",
              "      <td>191050.39</td>\n",
              "    </tr>\n",
              "    <tr>\n",
              "      <th>4</th>\n",
              "      <td>142107.34</td>\n",
              "      <td>91391.77</td>\n",
              "      <td>366168.42</td>\n",
              "      <td>Florida</td>\n",
              "      <td>166187.94</td>\n",
              "    </tr>\n",
              "    <tr>\n",
              "      <th>6</th>\n",
              "      <td>134615.46</td>\n",
              "      <td>147198.87</td>\n",
              "      <td>127716.82</td>\n",
              "      <td>California</td>\n",
              "      <td>156122.51</td>\n",
              "    </tr>\n",
              "    <tr>\n",
              "      <th>7</th>\n",
              "      <td>130298.13</td>\n",
              "      <td>145530.06</td>\n",
              "      <td>323876.68</td>\n",
              "      <td>Florida</td>\n",
              "      <td>155752.60</td>\n",
              "    </tr>\n",
              "  </tbody>\n",
              "</table>\n",
              "</div>"
            ],
            "text/plain": [
              "   R&D Spend  Administration  Marketing Spend       State     Profit\n",
              "1  162597.70       151377.59        443898.53  California  191792.06\n",
              "2  153441.51       101145.55        407934.54     Florida  191050.39\n",
              "4  142107.34        91391.77        366168.42     Florida  166187.94\n",
              "6  134615.46       147198.87        127716.82  California  156122.51\n",
              "7  130298.13       145530.06        323876.68     Florida  155752.60"
            ]
          },
          "execution_count": 7,
          "metadata": {},
          "output_type": "execute_result"
        }
      ],
      "source": [
        "df_sel.head() # column title and first rows of the dataset"
      ]
    },
    {
      "cell_type": "code",
      "execution_count": 8,
      "id": "32984bcc",
      "metadata": {
        "colab": {
          "base_uri": "https://localhost:8080/"
        },
        "id": "32984bcc",
        "outputId": "5d110736-c5ca-4ee5-dd89-2fd922a4c08c"
      },
      "outputs": [
        {
          "data": {
            "text/plain": [
              "R&D Spend          float64\n",
              "Administration     float64\n",
              "Marketing Spend    float64\n",
              "State               object\n",
              "Profit             float64\n",
              "dtype: object"
            ]
          },
          "execution_count": 8,
          "metadata": {},
          "output_type": "execute_result"
        }
      ],
      "source": [
        "df_sel.dtypes # type of each column"
      ]
    },
    {
      "cell_type": "markdown",
      "id": "0784375e",
      "metadata": {
        "id": "0784375e"
      },
      "source": [
        "***Encode categorical data***\n",
        "\n",
        "One-hot encoding of categorical feature _State_\n",
        "\n",
        "One-Hot Encoding is a technique used in machine learning to handle categorical variables by transforming them into a format that can be easily utilized by algorithms.\n",
        "\n",
        "Imagine having a categorical variable, such as colors: red, green, and blue. With One-Hot Encoding, each color becomes a new binary column. If an observation has a specific color, the column corresponding to that color will be set to 1, while the other columns will be set to 0.\n",
        "\n",
        "For example:\n",
        "- If you have categories \"red\", \"green\", \"blue\", and you want to encode them using One-Hot Encoding:\n",
        "  - \"red\" becomes [1, 0, 0]\n",
        "  - \"green\" becomes [0, 1, 0]\n",
        "  - \"blue\" becomes [0, 0, 1]\n",
        "\n",
        "This helps machine learning algorithms to understand and work with these categorical variables more effectively, as it doesn't impose an order or hierarchy among the categories but rather represents them in a form that the algorithm can interpret more efficiently."
      ]
    },
    {
      "cell_type": "code",
      "execution_count": 9,
      "id": "0a6b154f",
      "metadata": {
        "id": "0a6b154f"
      },
      "outputs": [],
      "source": [
        "#df_one = np.invert(pd.get_dummies(df_sel[\"State\"]))\n",
        "df_one = pd.get_dummies(df_sel[\"State\"])\n",
        "df_one = df_one.astype(int)"
      ]
    },
    {
      "cell_type": "code",
      "execution_count": 10,
      "id": "3f282229",
      "metadata": {
        "colab": {
          "base_uri": "https://localhost:8080/",
          "height": 206
        },
        "id": "3f282229",
        "outputId": "af6ae211-c29f-4e55-e9f3-02fded7df40c",
        "scrolled": true
      },
      "outputs": [
        {
          "data": {
            "text/html": [
              "<div>\n",
              "<style scoped>\n",
              "    .dataframe tbody tr th:only-of-type {\n",
              "        vertical-align: middle;\n",
              "    }\n",
              "\n",
              "    .dataframe tbody tr th {\n",
              "        vertical-align: top;\n",
              "    }\n",
              "\n",
              "    .dataframe thead th {\n",
              "        text-align: right;\n",
              "    }\n",
              "</style>\n",
              "<table border=\"1\" class=\"dataframe\">\n",
              "  <thead>\n",
              "    <tr style=\"text-align: right;\">\n",
              "      <th></th>\n",
              "      <th>California</th>\n",
              "      <th>Florida</th>\n",
              "    </tr>\n",
              "  </thead>\n",
              "  <tbody>\n",
              "    <tr>\n",
              "      <th>1</th>\n",
              "      <td>1</td>\n",
              "      <td>0</td>\n",
              "    </tr>\n",
              "    <tr>\n",
              "      <th>2</th>\n",
              "      <td>0</td>\n",
              "      <td>1</td>\n",
              "    </tr>\n",
              "    <tr>\n",
              "      <th>4</th>\n",
              "      <td>0</td>\n",
              "      <td>1</td>\n",
              "    </tr>\n",
              "    <tr>\n",
              "      <th>6</th>\n",
              "      <td>1</td>\n",
              "      <td>0</td>\n",
              "    </tr>\n",
              "    <tr>\n",
              "      <th>7</th>\n",
              "      <td>0</td>\n",
              "      <td>1</td>\n",
              "    </tr>\n",
              "  </tbody>\n",
              "</table>\n",
              "</div>"
            ],
            "text/plain": [
              "   California  Florida\n",
              "1           1        0\n",
              "2           0        1\n",
              "4           0        1\n",
              "6           1        0\n",
              "7           0        1"
            ]
          },
          "execution_count": 10,
          "metadata": {},
          "output_type": "execute_result"
        }
      ],
      "source": [
        "df_one.head()"
      ]
    },
    {
      "cell_type": "code",
      "execution_count": 11,
      "metadata": {},
      "outputs": [
        {
          "data": {
            "text/html": [
              "<div>\n",
              "<style scoped>\n",
              "    .dataframe tbody tr th:only-of-type {\n",
              "        vertical-align: middle;\n",
              "    }\n",
              "\n",
              "    .dataframe tbody tr th {\n",
              "        vertical-align: top;\n",
              "    }\n",
              "\n",
              "    .dataframe thead th {\n",
              "        text-align: right;\n",
              "    }\n",
              "</style>\n",
              "<table border=\"1\" class=\"dataframe\">\n",
              "  <thead>\n",
              "    <tr style=\"text-align: right;\">\n",
              "      <th></th>\n",
              "      <th>State</th>\n",
              "      <th>R&amp;D Spend</th>\n",
              "      <th>Administration</th>\n",
              "      <th>Marketing Spend</th>\n",
              "      <th>Profit</th>\n",
              "    </tr>\n",
              "  </thead>\n",
              "  <tbody>\n",
              "    <tr>\n",
              "      <th>1</th>\n",
              "      <td>1</td>\n",
              "      <td>162597.70</td>\n",
              "      <td>151377.59</td>\n",
              "      <td>443898.53</td>\n",
              "      <td>191792.06</td>\n",
              "    </tr>\n",
              "    <tr>\n",
              "      <th>2</th>\n",
              "      <td>0</td>\n",
              "      <td>153441.51</td>\n",
              "      <td>101145.55</td>\n",
              "      <td>407934.54</td>\n",
              "      <td>191050.39</td>\n",
              "    </tr>\n",
              "    <tr>\n",
              "      <th>4</th>\n",
              "      <td>0</td>\n",
              "      <td>142107.34</td>\n",
              "      <td>91391.77</td>\n",
              "      <td>366168.42</td>\n",
              "      <td>166187.94</td>\n",
              "    </tr>\n",
              "    <tr>\n",
              "      <th>6</th>\n",
              "      <td>1</td>\n",
              "      <td>134615.46</td>\n",
              "      <td>147198.87</td>\n",
              "      <td>127716.82</td>\n",
              "      <td>156122.51</td>\n",
              "    </tr>\n",
              "    <tr>\n",
              "      <th>7</th>\n",
              "      <td>0</td>\n",
              "      <td>130298.13</td>\n",
              "      <td>145530.06</td>\n",
              "      <td>323876.68</td>\n",
              "      <td>155752.60</td>\n",
              "    </tr>\n",
              "  </tbody>\n",
              "</table>\n",
              "</div>"
            ],
            "text/plain": [
              "   State  R&D Spend  Administration  Marketing Spend     Profit\n",
              "1      1  162597.70       151377.59        443898.53  191792.06\n",
              "2      0  153441.51       101145.55        407934.54  191050.39\n",
              "4      0  142107.34        91391.77        366168.42  166187.94\n",
              "6      1  134615.46       147198.87        127716.82  156122.51\n",
              "7      0  130298.13       145530.06        323876.68  155752.60"
            ]
          },
          "execution_count": 11,
          "metadata": {},
          "output_type": "execute_result"
        }
      ],
      "source": [
        "# construct the final dataset that you will use for learning and prediction\n",
        "df_fin = pd.concat((df_one, df_sel), axis=1)\n",
        "df_fin = df_fin.drop([\"Florida\"], axis=1)\n",
        "df_fin = df_fin.drop([\"State\"], axis=1)\n",
        "# California is class 1, Florida is class 0\n",
        "df_fin = df_fin.rename(columns={\"California\": \"State\"})\n",
        "df_fin.head()"
      ]
    },
    {
      "cell_type": "code",
      "execution_count": 12,
      "id": "74e5d9d7",
      "metadata": {
        "id": "74e5d9d7"
      },
      "outputs": [
        {
          "data": {
            "text/html": [
              "<div>\n",
              "<style scoped>\n",
              "    .dataframe tbody tr th:only-of-type {\n",
              "        vertical-align: middle;\n",
              "    }\n",
              "\n",
              "    .dataframe tbody tr th {\n",
              "        vertical-align: top;\n",
              "    }\n",
              "\n",
              "    .dataframe thead th {\n",
              "        text-align: right;\n",
              "    }\n",
              "</style>\n",
              "<table border=\"1\" class=\"dataframe\">\n",
              "  <thead>\n",
              "    <tr style=\"text-align: right;\">\n",
              "      <th></th>\n",
              "      <th>State</th>\n",
              "      <th>R&amp;D Spend</th>\n",
              "      <th>Administration</th>\n",
              "      <th>Marketing Spend</th>\n",
              "      <th>Profit</th>\n",
              "    </tr>\n",
              "  </thead>\n",
              "  <tbody>\n",
              "    <tr>\n",
              "      <th>1</th>\n",
              "      <td>1</td>\n",
              "      <td>162597.70</td>\n",
              "      <td>151377.59</td>\n",
              "      <td>443898.53</td>\n",
              "      <td>191792.06</td>\n",
              "    </tr>\n",
              "    <tr>\n",
              "      <th>2</th>\n",
              "      <td>0</td>\n",
              "      <td>153441.51</td>\n",
              "      <td>101145.55</td>\n",
              "      <td>407934.54</td>\n",
              "      <td>191050.39</td>\n",
              "    </tr>\n",
              "    <tr>\n",
              "      <th>4</th>\n",
              "      <td>0</td>\n",
              "      <td>142107.34</td>\n",
              "      <td>91391.77</td>\n",
              "      <td>366168.42</td>\n",
              "      <td>166187.94</td>\n",
              "    </tr>\n",
              "    <tr>\n",
              "      <th>6</th>\n",
              "      <td>1</td>\n",
              "      <td>134615.46</td>\n",
              "      <td>147198.87</td>\n",
              "      <td>127716.82</td>\n",
              "      <td>156122.51</td>\n",
              "    </tr>\n",
              "    <tr>\n",
              "      <th>7</th>\n",
              "      <td>0</td>\n",
              "      <td>130298.13</td>\n",
              "      <td>145530.06</td>\n",
              "      <td>323876.68</td>\n",
              "      <td>155752.60</td>\n",
              "    </tr>\n",
              "  </tbody>\n",
              "</table>\n",
              "</div>"
            ],
            "text/plain": [
              "   State  R&D Spend  Administration  Marketing Spend     Profit\n",
              "1      1  162597.70       151377.59        443898.53  191792.06\n",
              "2      0  153441.51       101145.55        407934.54  191050.39\n",
              "4      0  142107.34        91391.77        366168.42  166187.94\n",
              "6      1  134615.46       147198.87        127716.82  156122.51\n",
              "7      0  130298.13       145530.06        323876.68  155752.60"
            ]
          },
          "execution_count": 12,
          "metadata": {},
          "output_type": "execute_result"
        }
      ],
      "source": [
        "# Constructing the final dataset for learning and prediction\n",
        "\n",
        "# Concatenating two DataFrames 'df_one' and 'df_sel' along columns (axis=1)\n",
        "df_fin = pd.concat((df_one, df_sel), axis=1)\n",
        "\n",
        "# Dropping the column \"Florida\" from the dataset as it was not selected for the final model\n",
        "df_fin = df_fin.drop([\"Florida\"], axis=1)\n",
        "\n",
        "# Dropping the column \"State\" (assumed to be the original 'State' column) as it is not required in its original form\n",
        "df_fin = df_fin.drop([\"State\"], axis=1)\n",
        "\n",
        "# Renaming the column \"California\" to \"State\" as part of preparing the dataset for classification (1 for California, 0 for Florida)\n",
        "df_fin = df_fin.rename(columns={\"California\": \"State\"})\n",
        "\n",
        "# Displaying the initial rows of the modified final dataset\n",
        "df_fin.head()"
      ]
    },
    {
      "cell_type": "markdown",
      "id": "ffced933",
      "metadata": {
        "id": "ffced933"
      },
      "source": [
        "***Normalize***\n",
        "\n",
        "Divide by the absolute value of the maximum so that features are in \\[0, 1\\]"
      ]
    },
    {
      "cell_type": "code",
      "execution_count": 13,
      "id": "eb704286",
      "metadata": {
        "id": "eb704286"
      },
      "outputs": [],
      "source": [
        "def absolute_maximum_scale(series):\n",
        "    return series / series.abs().max()\n",
        "\n",
        "for col in df_fin.columns:\n",
        "    df_fin[col] = absolute_maximum_scale(df_fin[col])"
      ]
    },
    {
      "cell_type": "code",
      "execution_count": 14,
      "metadata": {},
      "outputs": [],
      "source": [
        "def min_max_scale(ds):\n",
        "    xmax = max(ds)\n",
        "    xmin = min(ds)\n",
        "    xscaled = [(x - xmin) / (xmax - xmin) for x in ds]\n",
        "    return xscaled"
      ]
    },
    {
      "cell_type": "code",
      "execution_count": 15,
      "id": "5gURVDdmR52t",
      "metadata": {
        "id": "5gURVDdmR52t"
      },
      "outputs": [],
      "source": [
        "\n",
        "def absolute_maximum_scale(series):\n",
        "    \"\"\"\n",
        "    Scale each column in the DataFrame 'df_fin' by dividing the values by the absolute maximum value of that column.\n",
        "\n",
        "    Args:\n",
        "    series: A pandas Series or DataFrame column to be scaled.\n",
        "\n",
        "    Returns:\n",
        "    A scaled version of the input series with values ranging from -1 to 1 based on the maximum absolute value in the column.\n",
        "    \"\"\"\n",
        "    return series / series.abs().max()"
      ]
    },
    {
      "cell_type": "code",
      "execution_count": 16,
      "id": "vGQyMhhuR_5L",
      "metadata": {
        "id": "vGQyMhhuR_5L"
      },
      "outputs": [],
      "source": [
        "#Apply the 'absolute_maximum_scale' function to each column in the DataFrame 'df_fin'\n",
        "for col in df_fin.columns:\n",
        "    df_fin[col] = absolute_maximum_scale(df_fin[col])"
      ]
    },
    {
      "cell_type": "code",
      "execution_count": 17,
      "metadata": {},
      "outputs": [],
      "source": [
        "# for col in df_fin.columns:\n",
        "#     df_fin[col] = min_max_scale(df_fin[col])"
      ]
    },
    {
      "cell_type": "code",
      "execution_count": 18,
      "id": "421fc34c",
      "metadata": {
        "colab": {
          "base_uri": "https://localhost:8080/",
          "height": 206
        },
        "id": "421fc34c",
        "outputId": "4bdb8956-5059-46cd-d5ca-1ff06e2f3f18"
      },
      "outputs": [
        {
          "data": {
            "text/html": [
              "<div>\n",
              "<style scoped>\n",
              "    .dataframe tbody tr th:only-of-type {\n",
              "        vertical-align: middle;\n",
              "    }\n",
              "\n",
              "    .dataframe tbody tr th {\n",
              "        vertical-align: top;\n",
              "    }\n",
              "\n",
              "    .dataframe thead th {\n",
              "        text-align: right;\n",
              "    }\n",
              "</style>\n",
              "<table border=\"1\" class=\"dataframe\">\n",
              "  <thead>\n",
              "    <tr style=\"text-align: right;\">\n",
              "      <th></th>\n",
              "      <th>State</th>\n",
              "      <th>R&amp;D Spend</th>\n",
              "      <th>Administration</th>\n",
              "      <th>Marketing Spend</th>\n",
              "      <th>Profit</th>\n",
              "    </tr>\n",
              "  </thead>\n",
              "  <tbody>\n",
              "    <tr>\n",
              "      <th>1</th>\n",
              "      <td>1</td>\n",
              "      <td>1.000000</td>\n",
              "      <td>0.828805</td>\n",
              "      <td>1.000000</td>\n",
              "      <td>1.000000</td>\n",
              "    </tr>\n",
              "    <tr>\n",
              "      <th>2</th>\n",
              "      <td>0</td>\n",
              "      <td>0.943688</td>\n",
              "      <td>0.553781</td>\n",
              "      <td>0.918982</td>\n",
              "      <td>0.996133</td>\n",
              "    </tr>\n",
              "    <tr>\n",
              "      <th>4</th>\n",
              "      <td>0</td>\n",
              "      <td>0.873981</td>\n",
              "      <td>0.500378</td>\n",
              "      <td>0.824892</td>\n",
              "      <td>0.866501</td>\n",
              "    </tr>\n",
              "    <tr>\n",
              "      <th>6</th>\n",
              "      <td>1</td>\n",
              "      <td>0.827905</td>\n",
              "      <td>0.805926</td>\n",
              "      <td>0.287716</td>\n",
              "      <td>0.814020</td>\n",
              "    </tr>\n",
              "    <tr>\n",
              "      <th>7</th>\n",
              "      <td>0</td>\n",
              "      <td>0.801353</td>\n",
              "      <td>0.796789</td>\n",
              "      <td>0.729619</td>\n",
              "      <td>0.812091</td>\n",
              "    </tr>\n",
              "  </tbody>\n",
              "</table>\n",
              "</div>"
            ],
            "text/plain": [
              "   State  R&D Spend  Administration  Marketing Spend    Profit\n",
              "1      1   1.000000        0.828805         1.000000  1.000000\n",
              "2      0   0.943688        0.553781         0.918982  0.996133\n",
              "4      0   0.873981        0.500378         0.824892  0.866501\n",
              "6      1   0.827905        0.805926         0.287716  0.814020\n",
              "7      0   0.801353        0.796789         0.729619  0.812091"
            ]
          },
          "execution_count": 18,
          "metadata": {},
          "output_type": "execute_result"
        }
      ],
      "source": [
        "df_fin[\"State\"] = df_fin[\"State\"].astype(int)\n",
        "df_fin.head()"
      ]
    },
    {
      "cell_type": "code",
      "execution_count": 19,
      "id": "XouS4L7nSTzL",
      "metadata": {
        "colab": {
          "base_uri": "https://localhost:8080/"
        },
        "id": "XouS4L7nSTzL",
        "outputId": "3a51a8a4-e09e-437d-c684-165c8b0bb3cf"
      },
      "outputs": [
        {
          "data": {
            "text/plain": [
              "(33, 5)"
            ]
          },
          "execution_count": 19,
          "metadata": {},
          "output_type": "execute_result"
        }
      ],
      "source": [
        "df_fin.shape"
      ]
    },
    {
      "cell_type": "markdown",
      "id": "563bfeca",
      "metadata": {
        "id": "563bfeca"
      },
      "source": [
        "***Classification***"
      ]
    },
    {
      "cell_type": "markdown",
      "id": "5e3406c4",
      "metadata": {
        "id": "5e3406c4"
      },
      "source": [
        "Prepare the dataset:"
      ]
    },
    {
      "cell_type": "code",
      "execution_count": 20,
      "id": "bc04f61d",
      "metadata": {
        "id": "bc04f61d"
      },
      "outputs": [],
      "source": [
        "y = df_fin[\"State\"] # ground truth labels\n",
        "X = df_fin.drop([\"State\"], axis=1) # datapoints features\n",
        "# extract actual values from series\n",
        "y = y.values\n",
        "X = X.values"
      ]
    },
    {
      "cell_type": "markdown",
      "id": "7b65051f",
      "metadata": {
        "id": "7b65051f"
      },
      "source": [
        "Train test split\n",
        "\n",
        "$75\\%$ of the data are in the training set, the remaining $25\\%$ constitutes the test set."
      ]
    },
    {
      "cell_type": "code",
      "execution_count": 21,
      "id": "f11e105c",
      "metadata": {
        "id": "f11e105c"
      },
      "outputs": [],
      "source": [
        "from sklearn.model_selection import train_test_split\n",
        "\n",
        "# Splitting the dataset into training and testing sets\n",
        "# X represents the features (independent variables), and y represents the target (dependent variable).\n",
        "\n",
        "# Using train_test_split function to create the training and testing sets\n",
        "# X_train and y_train: Training features and labels\n",
        "# X_test and y_test: Testing features and labels\n",
        "\n",
        "# The 'test_size=0.25' parameter sets the proportion of the dataset to include in the test split. Here, 25% of the data is allocated to the test set.\n",
        "# The 'random_state=0' parameter sets the random seed for reproducibility of the split.\n",
        "\n",
        "X_train, X_test, y_train, y_test = train_test_split(X, y, test_size=0.25, random_state=0)\n"
      ]
    },
    {
      "cell_type": "markdown",
      "id": "5ee09c7e",
      "metadata": {
        "id": "5ee09c7e"
      },
      "source": [
        "Train the Logistic Regression Model"
      ]
    },
    {
      "cell_type": "code",
      "execution_count": 22,
      "id": "1d4b2d20",
      "metadata": {
        "id": "1d4b2d20"
      },
      "outputs": [],
      "source": [
        "from sklearn.linear_model import LogisticRegression"
      ]
    },
    {
      "cell_type": "code",
      "execution_count": 23,
      "id": "S71_9HAkSg7w",
      "metadata": {
        "id": "S71_9HAkSg7w"
      },
      "outputs": [],
      "source": [
        "# Creating a Logistic Regression model with specific parameters\n",
        "# - 'random_state=0' ensures reproducibility by setting the random seed.\n",
        "# - 'solver='lbfgs'' selects the optimization algorithm for the logistic regression.\n",
        "\n",
        "LR = LogisticRegression(random_state=0, solver='lbfgs', fit_intercept=False).fit(X_train, y_train)\n",
        "\n",
        "# Predicting the target variable (y) using the Logistic Regression model on the test set (X_test).\n",
        "predictions = LR.predict(X_test)\n",
        "\n",
        "# Calculating and rounding the accuracy score of the Logistic Regression model on the test set.\n",
        "# The score is calculated by comparing the predicted values to the actual values (y_test).\n",
        "accuracy = round(LR.score(X_test, y_test), 4)"
      ]
    },
    {
      "cell_type": "markdown",
      "id": "6f9b7d00",
      "metadata": {
        "id": "6f9b7d00"
      },
      "source": [
        "***Plot results***"
      ]
    },
    {
      "cell_type": "code",
      "execution_count": 24,
      "metadata": {},
      "outputs": [
        {
          "name": "stderr",
          "output_type": "stream",
          "text": [
            "C:\\Users\\abdul\\AppData\\Local\\Temp\\ipykernel_24364\\1014927415.py:4: FutureWarning: \n",
            "\n",
            "Passing `palette` without assigning `hue` is deprecated and will be removed in v0.14.0. Assign the `x` variable to `hue` and set `legend=False` for the same effect.\n",
            "\n",
            "  sns.countplot(x=\"State\", data =df_fin, palette='rocket')\n"
          ]
        },
        {
          "data": {
            "image/png": "[encoded data removed]",
            "text/plain": [
              "<Figure size 640x480 with 1 Axes>"
            ]
          },
          "metadata": {},
          "output_type": "display_data"
        },
        {
          "data": {
            "text/plain": [
              "<Figure size 640x480 with 0 Axes>"
            ]
          },
          "metadata": {},
          "output_type": "display_data"
        }
      ],
      "source": [
        "sns.set(style=\"white\")\n",
        "sns.set(style=\"whitegrid\", color_codes=True)\n",
        "\n",
        "sns.countplot(x=\"State\", data =df_fin, palette='rocket')\n",
        "plt.savefig(\"count_plot\")\n",
        "plt.show()\n",
        "plt.savefig(\"count_plot\")"
      ]
    },
    {
      "cell_type": "code",
      "execution_count": 25,
      "metadata": {},
      "outputs": [
        {
          "name": "stdout",
          "output_type": "stream",
          "text": [
            "percentage of label equal to 0 48.484848484848484\n",
            "percentage of label equal to 1 51.515151515151516\n"
          ]
        }
      ],
      "source": [
        "n_l0 = len(df_fin[df_fin[\"State\"] == 0])\n",
        "n_l1 = len(df_fin[df_fin[\"State\"] == 1])\n",
        "p_l0 = n_l0/(n_l0+n_l1)\n",
        "print(\"percentage of label equal to 0\", p_l0*100)\n",
        "p_l1 = n_l1/(n_l0+n_l1)\n",
        "print(\"percentage of label equal to 1\", p_l1*100)"
      ]
    },
    {
      "cell_type": "code",
      "execution_count": 26,
      "metadata": {},
      "outputs": [
        {
          "data": {
            "text/html": [
              "<div>\n",
              "<style scoped>\n",
              "    .dataframe tbody tr th:only-of-type {\n",
              "        vertical-align: middle;\n",
              "    }\n",
              "\n",
              "    .dataframe tbody tr th {\n",
              "        vertical-align: top;\n",
              "    }\n",
              "\n",
              "    .dataframe thead th {\n",
              "        text-align: right;\n",
              "    }\n",
              "</style>\n",
              "<table border=\"1\" class=\"dataframe\">\n",
              "  <thead>\n",
              "    <tr style=\"text-align: right;\">\n",
              "      <th></th>\n",
              "      <th>State</th>\n",
              "      <th>R&amp;D Spend</th>\n",
              "      <th>Administration</th>\n",
              "      <th>Marketing Spend</th>\n",
              "      <th>Profit</th>\n",
              "    </tr>\n",
              "  </thead>\n",
              "  <tbody>\n",
              "    <tr>\n",
              "      <th>1</th>\n",
              "      <td>1</td>\n",
              "      <td>1.000000</td>\n",
              "      <td>0.828805</td>\n",
              "      <td>1.000000</td>\n",
              "      <td>1.000000</td>\n",
              "    </tr>\n",
              "    <tr>\n",
              "      <th>2</th>\n",
              "      <td>0</td>\n",
              "      <td>0.943688</td>\n",
              "      <td>0.553781</td>\n",
              "      <td>0.918982</td>\n",
              "      <td>0.996133</td>\n",
              "    </tr>\n",
              "    <tr>\n",
              "      <th>4</th>\n",
              "      <td>0</td>\n",
              "      <td>0.873981</td>\n",
              "      <td>0.500378</td>\n",
              "      <td>0.824892</td>\n",
              "      <td>0.866501</td>\n",
              "    </tr>\n",
              "    <tr>\n",
              "      <th>6</th>\n",
              "      <td>1</td>\n",
              "      <td>0.827905</td>\n",
              "      <td>0.805926</td>\n",
              "      <td>0.287716</td>\n",
              "      <td>0.814020</td>\n",
              "    </tr>\n",
              "    <tr>\n",
              "      <th>7</th>\n",
              "      <td>0</td>\n",
              "      <td>0.801353</td>\n",
              "      <td>0.796789</td>\n",
              "      <td>0.729619</td>\n",
              "      <td>0.812091</td>\n",
              "    </tr>\n",
              "  </tbody>\n",
              "</table>\n",
              "</div>"
            ],
            "text/plain": [
              "   State  R&D Spend  Administration  Marketing Spend    Profit\n",
              "1      1   1.000000        0.828805         1.000000  1.000000\n",
              "2      0   0.943688        0.553781         0.918982  0.996133\n",
              "4      0   0.873981        0.500378         0.824892  0.866501\n",
              "6      1   0.827905        0.805926         0.287716  0.814020\n",
              "7      0   0.801353        0.796789         0.729619  0.812091"
            ]
          },
          "execution_count": 26,
          "metadata": {},
          "output_type": "execute_result"
        }
      ],
      "source": [
        "df_fin.head()"
      ]
    },
    {
      "cell_type": "code",
      "execution_count": 27,
      "id": "fae229d6",
      "metadata": {
        "id": "fae229d6"
      },
      "outputs": [
        {
          "name": "stderr",
          "output_type": "stream",
          "text": [
            "C:\\Users\\abdul\\AppData\\Local\\Temp\\ipykernel_24364\\4083438239.py:22: UserWarning: Matplotlib is currently using module://matplotlib_inline.backend_inline, which is a non-GUI backend, so cannot show the figure.\n",
            "  fig.show()\n"
          ]
        },
        {
          "data": {
            "image/png": "[encoded data removed]",
            "text/plain": [
              "<Figure size 1500x1000 with 6 Axes>"
            ]
          },
          "metadata": {},
          "output_type": "display_data"
        }
      ],
      "source": [
        "# fig = px.scatter_matrix(df_fin,\n",
        "#     dimensions=list(df_fin.columns)[1:],\n",
        "#     color=\"State\")\n",
        "# fig.show()\n",
        "\n",
        "fig, axs = plt.subplots(2, 3)\n",
        "col = list(df_fin.columns)\n",
        "axs[0, 0].scatter(X_train[:, 0], X_train[:, 1], s=70, c=y_train, cmap=\"jet\", alpha=0.8, )\n",
        "axs[0, 0].set_title(col[1] + ' vs ' + col[2])\n",
        "axs[0, 1].scatter(X_train[:, 0], X_train[:, 2], s=70, c=y_train, alpha=0.8, cmap=\"jet\")\n",
        "axs[0, 1].set_title(col[1] + ' vs ' + col[3])\n",
        "axs[0, 2].scatter(X_train[:, 0], X_train[:, 3], s=70, c=y_train, alpha=0.8, cmap=\"jet\")\n",
        "axs[0, 2].set_title(col[1] + ' vs ' + col[4])\n",
        "axs[1, 0].scatter(X_train[:, 1], X_train[:, 2], s=70, c=y_train, alpha=0.8, cmap=\"jet\")\n",
        "axs[1, 0].set_title(col[2] + ' vs ' + col[4])\n",
        "axs[1, 1].scatter(X_train[:, 1], X_train[:, 3], s=70, c=y_train, alpha=0.8, cmap=\"jet\")\n",
        "axs[1, 1].set_title(col[3] + ' vs ' + col[3])\n",
        "axs[1, 2].scatter(X_train[:, 2], X_train[:, 3], s=70, c=y_train, alpha=0.8, cmap=\"jet\")\n",
        "axs[1, 2].set_title(col[3] + ' vs ' + col[4])\n",
        "\n",
        "fig.set_size_inches(15,10)\n",
        "fig.show()\n",
        "fig.savefig(fname=\"scatterplot\")"
      ]
    },
    {
      "cell_type": "markdown",
      "id": "0a2a78f4",
      "metadata": {
        "id": "0a2a78f4"
      },
      "source": [
        "***Add regularization***\n",
        "\n",
        "Implement from scratch the regularized logistic regression model (with all the regularization techniques seen during the course)."
      ]
    },
    {
      "cell_type": "markdown",
      "metadata": {},
      "source": [
        "***Logistic regression without regularization***"
      ]
    },
    {
      "cell_type": "code",
      "execution_count": 28,
      "metadata": {},
      "outputs": [],
      "source": [
        "def sigmoidM(X, w):\n",
        "    \"\"\"\n",
        "    Parameters\n",
        "    ----------\n",
        "    X : array of dim n x d\n",
        "        Matrix containing the dataset\n",
        "    w : array of dim d\n",
        "        Vector representing the coefficients of the logistic model\n",
        "    \"\"\"\n",
        "    y = 1/(1+np.exp(-np.matmul(X,w)))\n",
        "    return y"
      ]
    },
    {
      "cell_type": "code",
      "execution_count": 29,
      "metadata": {},
      "outputs": [],
      "source": [
        "def LogisticLoss(X, labels, w):\n",
        "    \"\"\"\n",
        "    Parameters\n",
        "    ----------\n",
        "    X : array of dim n x d\n",
        "        Matrix containing the dataset\n",
        "    y : array of dim n\n",
        "        Vector representing the ground truth label of each data point\n",
        "    w : array of dim d\n",
        "        Vector representing the coefficients of the logistic model\n",
        "    \"\"\"\n",
        "    n = np.shape(X)[0]\n",
        "    cost = -(1/n)*np.sum(labels*np.log(sigmoidM(X,w)) + (1-labels)*np.log(1-sigmoidM(X,w)))\n",
        "    return cost\n",
        "\n",
        "def GDLogistic(X, labels, iter, gamma, w_):\n",
        "    \"\"\"\n",
        "    Parameters\n",
        "    ----------\n",
        "    X : array of dim n x d\n",
        "        Matrix containing the dataset\n",
        "    labels : array of dim n\n",
        "        Vector representing the ground truth label of each data point\n",
        "    iter : int\n",
        "        Number of GD iterations\n",
        "    gamma : float\n",
        "        Learning rate\n",
        "    \"\"\"\n",
        "    d = np.shape(X)  # d contains the shape of X, which is a tuple (n, d)\n",
        "    cost = np.zeros(iter)  # Create an array to store the cost at each iteration\n",
        "    w = w_\n",
        "    W = np.zeros((d[1], iter))  # Create an array to store the weight vectors at each iteration\n",
        "    for i in range(iter):\n",
        "        W[:, i] = w  # Store the current weight vector in the W array\n",
        "        # Update the weight vector using gradient descent\n",
        "        w = w - (gamma / d[0]) * (np.transpose(X) @ (sigmoidM(X, w) - labels))\n",
        "        # Compute and store the logistic loss for the current weight vector\n",
        "        cost[i] = LogisticLoss(X, labels, w)\n",
        "\n",
        "    return W, cost"
      ]
    },
    {
      "cell_type": "markdown",
      "metadata": {},
      "source": [
        "***Logistic regression with RIDGE regularization***"
      ]
    },
    {
      "cell_type": "code",
      "execution_count": 30,
      "metadata": {},
      "outputs": [],
      "source": [
        "def RidgeLogLoss(X, labels, w, lam):\n",
        "    \"\"\"\n",
        "    Parameters\n",
        "    ----------\n",
        "    X : array of float dim n x d\n",
        "        Matrix containing the dataset\n",
        "    y : array of float of dim n\n",
        "        Vector containing the ground truth value of each data point\n",
        "    w : array of float of dim d\n",
        "        Weights of the fitted line\n",
        "    lam : float\n",
        "        Weight of the L2 penalty term\n",
        "    \"\"\"\n",
        "    n = np.shape(X)[0]\n",
        "    cost = -(1/n)*np.sum(labels*np.log(sigmoidM(X,w)) + (1-labels)*np.log(1-sigmoidM(X,w))) + lam*np.dot(w,w)\n",
        "    return cost"
      ]
    },
    {
      "cell_type": "code",
      "execution_count": 31,
      "metadata": {},
      "outputs": [],
      "source": [
        "def GDRidgeLogistic(X, labels, iter, gamma, lam, w_):\n",
        "    \"\"\"\n",
        "    Parameters\n",
        "    ----------\n",
        "    X : array of dim n x d\n",
        "        Matrix containing the dataset\n",
        "    labels : array of dim n\n",
        "        Vector representing the ground truth label of each data point\n",
        "    iter : int\n",
        "        Number of GD iterations\n",
        "    gamma : float\n",
        "        Learning rate\n",
        "    lam : float\n",
        "        Weight of the penalty term\n",
        "    \"\"\"\n",
        "    d = np.shape(X)  # d contains the shape of X, which is a tuple (n, d)\n",
        "    cost = np.zeros(iter)  # Create an array to store the cost at each iteration\n",
        "    w = w_\n",
        "    W = np.zeros((d[1], iter))  # Create an array to store the weight vectors at each iteration\n",
        "    for i in range(iter):\n",
        "        W[:, i] = w  # Store the current weight vector in the W array\n",
        "        # Update the weight vector using gradient descent\n",
        "        w = w - (gamma / d[0]) * (np.transpose(X) @ (sigmoidM(X, w) - labels) + 2*lam*w)\n",
        "        # Compute and store the logistic loss for the current weight vector\n",
        "        cost[i] = RidgeLogLoss(X, labels, w, lam)\n",
        "\n",
        "    return W, cost"
      ]
    },
    {
      "cell_type": "markdown",
      "metadata": {},
      "source": [
        "***Logistic regression with LASSO regularization***"
      ]
    },
    {
      "cell_type": "code",
      "execution_count": 32,
      "metadata": {},
      "outputs": [],
      "source": [
        "def LassoLogLoss(X, labels, w, lam):\n",
        "    \"\"\"\n",
        "    Parameters\n",
        "    ----------\n",
        "    X : array of float dim n x d\n",
        "        Matrix containing the dataset\n",
        "    y : array of float of dim n\n",
        "        Vector containing the ground truth value of each data point\n",
        "    w : array of float of dim d\n",
        "        Weights of the fitted line\n",
        "    lam : float\n",
        "        Weight of the L1 penalty term\n",
        "    \"\"\"\n",
        "    n = np.shape(X)[0]\n",
        "    cost = -(1/n)*np.sum(labels*np.log(sigmoidM(X,w)) + (1-labels)*np.log(1-sigmoidM(X,w))) + lam*np.sum(np.abs(w))\n",
        "    return cost\n",
        "\n",
        "def L1_subgradient(z):\n",
        "    \"\"\"\n",
        "    Compute the subgradient of the absolute value function element-wise.\n",
        "\n",
        "    Parameters:\n",
        "    ----------\n",
        "    z : array-like\n",
        "        Input array for which the subgradient is calculated.\n",
        "\n",
        "    Returns:\n",
        "    ----------\n",
        "    g : array-like\n",
        "        Subgradient of the absolute value function applied element-wise to `z`.\n",
        "    \"\"\"\n",
        "    # Create an array g of the same shape as z, initialized with all 1s.\n",
        "    g = np.ones(z.shape)\n",
        "\n",
        "    # Check each element of z.\n",
        "    for i in range(z.shape[0]):\n",
        "    # If the element is negative, set the corresponding element in g to -1.\n",
        "       if z[i] < 0.:\n",
        "          g[i] = -1.0\n",
        "    # If the element is zero, set the corresponding element in g to 0.\n",
        "       elif z[i] == 0.:\n",
        "         g[i] = 0.0\n",
        "\n",
        "\n",
        "    # Return the resulting array g, representing the subgradient.\n",
        "    return g\n",
        "\n",
        "def LassoGradient(w, lam):\n",
        "    return lam * L1_subgradient(w)"
      ]
    },
    {
      "cell_type": "code",
      "execution_count": 38,
      "metadata": {},
      "outputs": [],
      "source": [
        "def GDLassoLogistic(X, labels, iter, gamma, lam, w_):\n",
        "    \"\"\"\n",
        "    Parameters\n",
        "    ----------\n",
        "    X : array of dim n x d\n",
        "        Matrix containing the dataset\n",
        "    labels : array of dim n\n",
        "        Vector representing the ground truth label of each data point\n",
        "    iter : int\n",
        "        Number of GD iterations\n",
        "    gamma : float\n",
        "        Learning rate\n",
        "    lam : float\n",
        "        Weight of the penalty term\n",
        "    \"\"\"\n",
        "    d = np.shape(X)  # d contains the shape of X, which is a tuple (n, d)\n",
        "    cost = np.zeros(iter)  # Create an array to store the cost at each iteration\n",
        "    w = w_\n",
        "    print(w.shape)\n",
        "    W = np.zeros((d[1], iter))  # Create an array to store the weight vectors at each iteration\n",
        "    print(W.shape)\n",
        "    for i in range(iter):\n",
        "        W[:, i] = w  # Store the current weight vector in the W array\n",
        "        # Update the weight vector using gradient descent\n",
        "        w = w - (gamma / d[0]) * (np.transpose(X) @ (sigmoidM(X, w) - labels) + LassoGradient(w, lam))\n",
        "        # Compute and store the logistic loss for the current weight vector\n",
        "        cost[i] = LassoLogLoss(X, labels, w, lam)\n",
        "\n",
        "    return W, cost"
      ]
    },
    {
      "cell_type": "code",
      "execution_count": 39,
      "metadata": {},
      "outputs": [
        {
          "name": "stdout",
          "output_type": "stream",
          "text": [
            "(4,)\n",
            "(4,)\n",
            "(4, 750)\n"
          ]
        },
        {
          "name": "stderr",
          "output_type": "stream",
          "text": [
            "C:\\Users\\abdul\\AppData\\Local\\Temp\\ipykernel_24364\\2371911406.py:26: UserWarning: Matplotlib is currently using module://matplotlib_inline.backend_inline, which is a non-GUI backend, so cannot show the figure.\n",
            "  fig.show()\n"
          ]
        },
        {
          "data": {
            "image/png": "[encoded data removed]",
            "text/plain": [
              "<Figure size 1700x500 with 3 Axes>"
            ]
          },
          "metadata": {},
          "output_type": "display_data"
        }
      ],
      "source": [
        "iter = 750\n",
        "gamma = 0.031\n",
        "lam = 0.01\n",
        "\n",
        "np.random.seed(1234)\n",
        "#np.random.seed(666)\n",
        "w = np.random.uniform(0, 0.01, np.shape(X_train)[1])  # Initialize w with random values\n",
        "print(w.shape)\n",
        "#w = np.zeros(np.shape(X_train)[1])  # Initialize w with random values\n",
        "\n",
        "W_, cost_ = GDLogistic(X_train, y_train, iter, gamma, w)\n",
        "WR, costR = GDRidgeLogistic(X_train, y_train, iter, gamma, lam, w)\n",
        "WL, costL = GDLassoLogistic(X_train, y_train, iter, gamma, lam, w)\n",
        "\n",
        "costs = [[\"NO\", cost_], [\"RIDGE\", costR], [\"LASSO\", costL]]\n",
        "\n",
        "fig, axs = plt.subplots(1, 3)\n",
        "\n",
        "for ax, cost in zip(axs, costs):\n",
        "    ax.plot(cost[1], 'o', ls='-')\n",
        "    ax.set_xlabel(\"iter\")\n",
        "    ax.set_ylabel(\"cost\")\n",
        "    ax.set_title(f\"Loss Logistic Regressione with {cost[0]} regularization\")\n",
        "    ax.title.set_size(10)\n",
        "fig.set_size_inches(17,5)\n",
        "fig.show()\n",
        "fig.savefig(\"Loss_plots\")"
      ]
    },
    {
      "cell_type": "code",
      "execution_count": 36,
      "metadata": {},
      "outputs": [
        {
          "name": "stdout",
          "output_type": "stream",
          "text": [
            "w_ : [ 0.33569773  0.12552149 -0.46952374 -0.2674722 ]\n",
            "wR : [ 0.33211736  0.12384625 -0.46559575 -0.26546418]\n",
            "wL : [ 0.32537269  0.12018465 -0.46199446 -0.25964272]\n",
            "LR : [ 0.33946518  0.11921608 -0.43943845 -0.26236414]\n"
          ]
        },
        {
          "data": {
            "text/html": [
              "<div>\n",
              "<style scoped>\n",
              "    .dataframe tbody tr th:only-of-type {\n",
              "        vertical-align: middle;\n",
              "    }\n",
              "\n",
              "    .dataframe tbody tr th {\n",
              "        vertical-align: top;\n",
              "    }\n",
              "\n",
              "    .dataframe thead th {\n",
              "        text-align: right;\n",
              "    }\n",
              "</style>\n",
              "<table border=\"1\" class=\"dataframe\">\n",
              "  <thead>\n",
              "    <tr style=\"text-align: right;\">\n",
              "      <th></th>\n",
              "      <th>0</th>\n",
              "      <th>1</th>\n",
              "      <th>2</th>\n",
              "      <th>3</th>\n",
              "    </tr>\n",
              "  </thead>\n",
              "  <tbody>\n",
              "    <tr>\n",
              "      <th>0</th>\n",
              "      <td>0.335698</td>\n",
              "      <td>0.125521</td>\n",
              "      <td>-0.469524</td>\n",
              "      <td>-0.267472</td>\n",
              "    </tr>\n",
              "    <tr>\n",
              "      <th>1</th>\n",
              "      <td>0.332117</td>\n",
              "      <td>0.123846</td>\n",
              "      <td>-0.465596</td>\n",
              "      <td>-0.265464</td>\n",
              "    </tr>\n",
              "    <tr>\n",
              "      <th>2</th>\n",
              "      <td>0.325373</td>\n",
              "      <td>0.120185</td>\n",
              "      <td>-0.461994</td>\n",
              "      <td>-0.259643</td>\n",
              "    </tr>\n",
              "    <tr>\n",
              "      <th>3</th>\n",
              "      <td>0.339465</td>\n",
              "      <td>0.119216</td>\n",
              "      <td>-0.439438</td>\n",
              "      <td>-0.262364</td>\n",
              "    </tr>\n",
              "  </tbody>\n",
              "</table>\n",
              "</div>"
            ],
            "text/plain": [
              "          0         1         2         3\n",
              "0  0.335698  0.125521 -0.469524 -0.267472\n",
              "1  0.332117  0.123846 -0.465596 -0.265464\n",
              "2  0.325373  0.120185 -0.461994 -0.259643\n",
              "3  0.339465  0.119216 -0.439438 -0.262364"
            ]
          },
          "execution_count": 36,
          "metadata": {},
          "output_type": "execute_result"
        }
      ],
      "source": [
        "print(f\"w_ : {W_[:,iter-1]}\\nwR : {WR[:,iter-1]}\\nwL : {WL[:, iter-1]}\\nLR : {LR.coef_[0]}\")\n",
        "pd.DataFrame([W_[:,iter-1], WR[:,iter-1], WL[:,iter-1], LR.coef_[0]])"
      ]
    },
    {
      "cell_type": "markdown",
      "id": "7a05776d",
      "metadata": {
        "id": "7a05776d"
      },
      "source": [
        "***Model assessment***\n",
        "\n",
        "Given true and predicted values, compute the most common classification metrics to assess the quality of your predictions."
      ]
    },
    {
      "cell_type": "code",
      "execution_count": 37,
      "id": "b3a864f9",
      "metadata": {
        "id": "b3a864f9"
      },
      "outputs": [
        {
          "name": "stdout",
          "output_type": "stream",
          "text": [
            "[0 1 0 0 0 0 0 0 0]\n",
            "              precision    recall  f1-score   support\n",
            "\n",
            "     Florida       0.38      1.00      0.55         3\n",
            "  California       1.00      0.17      0.29         6\n",
            "\n",
            "    accuracy                           0.44         9\n",
            "   macro avg       0.69      0.58      0.42         9\n",
            "weighted avg       0.79      0.44      0.37         9\n",
            "\n"
          ]
        }
      ],
      "source": [
        "from sklearn.metrics import classification_report\n",
        "y_true = y_test\n",
        "y_pred = LR.predict(X_test)\n",
        "print(y_pred)\n",
        "target_names = ['Florida', 'California']\n",
        "print(classification_report(y_true, y_pred, target_names=target_names))"
      ]
    },
    {
      "cell_type": "code",
      "execution_count": 38,
      "metadata": {},
      "outputs": [],
      "source": [
        "def get_conf_matrix(y_pred, y_true):\n",
        "    \"\"\" Return the confusion matrix\n",
        "    \n",
        "    y_pred (int): array 1 x d\n",
        "        predicted label\n",
        "        \n",
        "    y_true: array 1 x d\n",
        "        true label\n",
        "        \n",
        "    return (array 3 x 3 int) \n",
        "    \"\"\"  \n",
        "    \n",
        "    tp = 0\n",
        "    tn = 0\n",
        "    fp = 0\n",
        "    fn = 0\n",
        "    \n",
        "    for yt, yp in zip(y_true, y_pred):\n",
        "        if yp == yt:\n",
        "            if yp == 1:\n",
        "                tp += 1\n",
        "            else:\n",
        "                tn += 1\n",
        "        else:\n",
        "            if yp == 1:\n",
        "                fp += 1\n",
        "            else:\n",
        "                fn += 1\n",
        "    \n",
        "    conf_matrix = [\n",
        "        [len(y_true), tp+fp, fn+tn],\n",
        "        [tp+fn, tp, fn],\n",
        "        [fp+tn, fp, tn]]\n",
        "\n",
        "    return np.array(conf_matrix)\n",
        "\n",
        "def predict(X, w, th=0.5):\n",
        "    y_pred = sigmoidM(X, w)\n",
        "    return y_pred >= th\n",
        "    \n",
        "\n",
        "def weird_division(n, d):\n",
        "    return n / d if d else 0"
      ]
    },
    {
      "cell_type": "code",
      "execution_count": 39,
      "metadata": {},
      "outputs": [],
      "source": [
        "w_=W_[:,iter-1]\n",
        "wR = WR[:,iter-1]\n",
        "wL = WL[:,iter-1]"
      ]
    },
    {
      "cell_type": "code",
      "execution_count": 40,
      "metadata": {},
      "outputs": [],
      "source": [
        "if np.sum(y_test) > (len(y_test)/2):\n",
        "    y_blm = np.ones(len(y_test))\n",
        "else:\n",
        "    y_blm = np.zeros(len(y_test))\n",
        "\n",
        "yLR = predict(X_test, LR.coef_[0])\n",
        "y_pred_no_reg = predict(X_test, w_)\n",
        "y_pred_ridge = predict(X_test, wR)\n",
        "y_pred_lasso = predict(X_test, wL)"
      ]
    },
    {
      "cell_type": "code",
      "execution_count": 41,
      "metadata": {},
      "outputs": [
        {
          "name": "stdout",
          "output_type": "stream",
          "text": [
            "BLM\n",
            "[[9 9 0]\n",
            " [6 6 0]\n",
            " [3 3 0]]\n",
            "\n",
            "SKlearn\n",
            "[[9 1 8]\n",
            " [6 1 5]\n",
            " [3 0 3]]\n",
            "\n",
            "No reg\n",
            "[[9 1 8]\n",
            " [6 1 5]\n",
            " [3 0 3]]\n",
            "\n",
            "Ridge\n",
            "[[9 1 8]\n",
            " [6 1 5]\n",
            " [3 0 3]]\n",
            "\n",
            "Lasso\n",
            "[[9 1 8]\n",
            " [6 1 5]\n",
            " [3 0 3]]\n"
          ]
        }
      ],
      "source": [
        "cm_blm = get_conf_matrix(y_blm, y_test)\n",
        "cm_LR = get_conf_matrix(yLR, y_test)\n",
        "cm_no_reg = get_conf_matrix(y_pred_no_reg, y_test)\n",
        "cm_ridge = get_conf_matrix(y_pred_ridge, y_test)\n",
        "cm_lasso = get_conf_matrix(y_pred_lasso, y_test)\n",
        "print(f\"BLM\\n{cm_blm}\\n\\nSKlearn\\n{cm_LR}\\n\\nNo reg\\n{cm_no_reg}\\n\\nRidge\\n{cm_ridge}\\n\\nLasso\\n{cm_lasso}\")"
      ]
    },
    {
      "cell_type": "code",
      "execution_count": 42,
      "metadata": {},
      "outputs": [
        {
          "data": {
            "text/html": [
              "<div>\n",
              "<style scoped>\n",
              "    .dataframe tbody tr th:only-of-type {\n",
              "        vertical-align: middle;\n",
              "    }\n",
              "\n",
              "    .dataframe tbody tr th {\n",
              "        vertical-align: top;\n",
              "    }\n",
              "\n",
              "    .dataframe thead th {\n",
              "        text-align: right;\n",
              "    }\n",
              "</style>\n",
              "<table border=\"1\" class=\"dataframe\">\n",
              "  <thead>\n",
              "    <tr style=\"text-align: right;\">\n",
              "      <th></th>\n",
              "      <th>Accuracy</th>\n",
              "      <th>Precision</th>\n",
              "      <th>Recall</th>\n",
              "      <th>F1-score</th>\n",
              "    </tr>\n",
              "  </thead>\n",
              "  <tbody>\n",
              "    <tr>\n",
              "      <th>Base-Line-Model</th>\n",
              "      <td>0.666667</td>\n",
              "      <td>0.666667</td>\n",
              "      <td>1.000000</td>\n",
              "      <td>0.800000</td>\n",
              "    </tr>\n",
              "    <tr>\n",
              "      <th>Logistic regression without regularization</th>\n",
              "      <td>0.444444</td>\n",
              "      <td>1.000000</td>\n",
              "      <td>0.166667</td>\n",
              "      <td>0.285714</td>\n",
              "    </tr>\n",
              "  </tbody>\n",
              "</table>\n",
              "</div>"
            ],
            "text/plain": [
              "                                            Accuracy  Precision    Recall  \\\n",
              "Base-Line-Model                             0.666667   0.666667  1.000000   \n",
              "Logistic regression without regularization  0.444444   1.000000  0.166667   \n",
              "\n",
              "                                            F1-score  \n",
              "Base-Line-Model                             0.800000  \n",
              "Logistic regression without regularization  0.285714  "
            ]
          },
          "execution_count": 42,
          "metadata": {},
          "output_type": "execute_result"
        }
      ],
      "source": [
        "header = [\"Accuracy\",\"Precision\",\"Recall\",\"F1-score\"]\n",
        "data = list()\n",
        "for cf in [cm_blm, cm_no_reg]:\n",
        "    aux = [weird_division(cf[1,1]+cf[2,2],cf[0,0]), weird_division(cf[1,1],cf[0,1]), weird_division(cf[1,1],cf[1,0]), weird_division((2*cf[1,1]),((2*cf[1,1])+cf[2,1]+cf[1,2]))]\n",
        "    data.append(aux)\n",
        "\n",
        "\n",
        "pd.DataFrame(data, ['Base-Line-Model', 'Logistic regression without regularization'], header)\n",
        "\n"
      ]
    },
    {
      "cell_type": "markdown",
      "id": "q8gI_LEMJsB-",
      "metadata": {
        "id": "q8gI_LEMJsB-"
      },
      "source": [
        "Repeat the previous task for regularized logistic regression and compare the results."
      ]
    },
    {
      "cell_type": "code",
      "execution_count": 43,
      "metadata": {},
      "outputs": [
        {
          "data": {
            "text/html": [
              "<div>\n",
              "<style scoped>\n",
              "    .dataframe tbody tr th:only-of-type {\n",
              "        vertical-align: middle;\n",
              "    }\n",
              "\n",
              "    .dataframe tbody tr th {\n",
              "        vertical-align: top;\n",
              "    }\n",
              "\n",
              "    .dataframe thead th {\n",
              "        text-align: right;\n",
              "    }\n",
              "</style>\n",
              "<table border=\"1\" class=\"dataframe\">\n",
              "  <thead>\n",
              "    <tr style=\"text-align: right;\">\n",
              "      <th></th>\n",
              "      <th>Accuracy</th>\n",
              "      <th>Precision</th>\n",
              "      <th>Recall</th>\n",
              "      <th>F1-score</th>\n",
              "    </tr>\n",
              "  </thead>\n",
              "  <tbody>\n",
              "    <tr>\n",
              "      <th>Base-Line-Model</th>\n",
              "      <td>0.666667</td>\n",
              "      <td>0.666667</td>\n",
              "      <td>1.000000</td>\n",
              "      <td>0.800000</td>\n",
              "    </tr>\n",
              "    <tr>\n",
              "      <th>Logistic regression without regularization</th>\n",
              "      <td>0.444444</td>\n",
              "      <td>1.000000</td>\n",
              "      <td>0.166667</td>\n",
              "      <td>0.285714</td>\n",
              "    </tr>\n",
              "    <tr>\n",
              "      <th>Logistic regression with RIDGE regularization</th>\n",
              "      <td>0.444444</td>\n",
              "      <td>1.000000</td>\n",
              "      <td>0.166667</td>\n",
              "      <td>0.285714</td>\n",
              "    </tr>\n",
              "    <tr>\n",
              "      <th>Logistic regression with LASSO regularization</th>\n",
              "      <td>0.444444</td>\n",
              "      <td>1.000000</td>\n",
              "      <td>0.166667</td>\n",
              "      <td>0.285714</td>\n",
              "    </tr>\n",
              "  </tbody>\n",
              "</table>\n",
              "</div>"
            ],
            "text/plain": [
              "                                               Accuracy  Precision    Recall  \\\n",
              "Base-Line-Model                                0.666667   0.666667  1.000000   \n",
              "Logistic regression without regularization     0.444444   1.000000  0.166667   \n",
              "Logistic regression with RIDGE regularization  0.444444   1.000000  0.166667   \n",
              "Logistic regression with LASSO regularization  0.444444   1.000000  0.166667   \n",
              "\n",
              "                                               F1-score  \n",
              "Base-Line-Model                                0.800000  \n",
              "Logistic regression without regularization     0.285714  \n",
              "Logistic regression with RIDGE regularization  0.285714  \n",
              "Logistic regression with LASSO regularization  0.285714  "
            ]
          },
          "execution_count": 43,
          "metadata": {},
          "output_type": "execute_result"
        }
      ],
      "source": [
        "header = [\"Accuracy\",\"Precision\",\"Recall\",\"F1-score\"]\n",
        "data = list()\n",
        "for cf in [cm_blm, cm_no_reg, cm_ridge, cm_lasso]:\n",
        "    aux = [weird_division(cf[1,1]+cf[2,2],cf[0,0]), weird_division(cf[1,1],cf[0,1]), weird_division(cf[1,1],cf[1,0]), weird_division((2*cf[1,1]),((2*cf[1,1])+cf[2,1]+cf[1,2]))]\n",
        "    data.append(aux)\n",
        "\n",
        "\n",
        "pd.DataFrame(data, ['Base-Line-Model', 'Logistic regression without regularization', 'Logistic regression with RIDGE regularization', 'Logistic regression with LASSO regularization']\n",
        "             , header)\n"
      ]
    },
    {
      "cell_type": "markdown",
      "id": "d208a7b9",
      "metadata": {
        "id": "d208a7b9"
      },
      "source": [
        "***ROC curve***\n",
        "\n",
        "Implement a function for producing the Receiver Operating Characteristic (ROC) curve.\n",
        "\n",
        "Given true and predicted values, plot the ROC curve using your implemented function."
      ]
    },
    {
      "cell_type": "code",
      "execution_count": 44,
      "metadata": {},
      "outputs": [],
      "source": [
        "def print_roc_curve(w, y_test, title, legend):\n",
        "    fig, ax = plt.subplots()\n",
        "    fpr, tpr = list(), list()\n",
        "    ths = np.linspace(0,1,10000)\n",
        "    for th in ths:\n",
        "        ypnr = predict(X_test, w, th)\n",
        "        cf= get_conf_matrix(ypnr, y_test)\n",
        "        fpr.append(cf[2,1]/cf[2,0])\n",
        "        tpr.append(cf[1,1]/cf[1,0])\n",
        "    ax.plot(fpr, tpr)\n",
        "    ax.plot(ths,ths)\n",
        "    ax.set_title(title)\n",
        "    ax.legend(legend)\n",
        "    return ax"
      ]
    },
    {
      "cell_type": "code",
      "execution_count": 45,
      "metadata": {},
      "outputs": [
        {
          "name": "stderr",
          "output_type": "stream",
          "text": [
            "C:\\Users\\abdul\\AppData\\Local\\Temp\\ipykernel_12272\\3064190760.py:57: UserWarning: The figure layout has changed to tight\n",
            "  fig.tight_layout()\n"
          ]
        },
        {
          "data": {
            "image/png": "[encoded data removed]",
            "text/plain": [
              "<Figure size 1300x800 with 6 Axes>"
            ]
          },
          "metadata": {},
          "output_type": "display_data"
        }
      ],
      "source": [
        "from sklearn import metrics\n",
        "fig, axs = plt.subplots(2, 3,  constrained_layout=True)\n",
        "\n",
        "fpr, tpr = list(), list()\n",
        "ths = np.linspace(0,1,10000)\n",
        "\n",
        "axs[0,0].plot(ths,ths, \"r\")\n",
        "axs[0,0].set_title(\"Base line model\")\n",
        "\n",
        "y_pred = LR.predict_proba(X_test)[::,1]\n",
        "fpr, tpr, thresholds = metrics.roc_curve(y_test, y_pred)\n",
        "axs[0,1].plot(fpr, tpr)\n",
        "axs[0,1].plot(ths,ths)\n",
        "axs[0,1].legend([\"Sklearn\", \"BLM\"])\n",
        "axs[0,1].set_title(\"Sklearn ROC\")\n",
        "\n",
        "\n",
        "fpr, tpr = list(), list()\n",
        "for th in ths:\n",
        "    ypnr = predict(X_test, w_, th)\n",
        "    cf= get_conf_matrix(ypnr, y_test)\n",
        "    fpr.append(cf[2,1]/cf[2,0])\n",
        "    tpr.append(cf[1,1]/cf[1,0])\n",
        "axs[0,2].plot(fpr, tpr)\n",
        "axs[0,2].plot(ths,ths)\n",
        "axs[0,2].set_title(\"No regularization logistic regression\")\n",
        "axs[0,2].legend([\"LR\", \"BLM\"])\n",
        "\n",
        "fpr, tpr = list(), list()\n",
        "for th in ths:\n",
        "    ypr = predict(X_test, wR, th)\n",
        "    cf= get_conf_matrix(ypr, y_test)\n",
        "    fpr.append(cf[2,1]/cf[2,0])\n",
        "    tpr.append(cf[1,1]/cf[1,0])\n",
        "axs[1,0].plot(fpr, tpr)\n",
        "axs[1,0].plot(ths,ths)\n",
        "axs[1,0].set_title(\"Ridge logistic regression\")\n",
        "axs[1,0].legend([\"LR\", \"BLM\"])\n",
        "\n",
        "fpr, tpr = list(), list()\n",
        "for th in ths:\n",
        "    ypl = predict(X_test, wL, th)\n",
        "    cf= get_conf_matrix(ypl, y_test)\n",
        "    fpr.append(cf[2,1]/cf[2,0])\n",
        "    tpr.append(cf[1,1]/cf[1,0])\n",
        "axs[1,1].plot(fpr, tpr)\n",
        "axs[1,1].plot(ths,ths)\n",
        "axs[1,1].set_title(\"Lasso logistic regression\")\n",
        "axs[1,1].legend([\"LR\", \"BLM\"])\n",
        "\n",
        "axs[1,2].set_axis_off()\n",
        "\n",
        "fig.suptitle(\"ROC CURVE\")\n",
        "fig.set_size_inches(13,8)\n",
        "fig.supxlabel('False positive rate')\n",
        "fig.supylabel('True positive rate')\n",
        "fig.tight_layout()\n",
        "fig.savefig(\"ROC_curve\")\n"
      ]
    }
  ],
  "metadata": {
    "colab": {
      "provenance": []
    },
    "kernelspec": {
      "display_name": "Python 3",
      "language": "python",
      "name": "python3"
    },
    "language_info": {
      "codemirror_mode": {
        "name": "ipython",
        "version": 3
      },
      "file_extension": ".py",
      "mimetype": "text/x-python",
      "name": "python",
      "nbconvert_exporter": "python",
      "pygments_lexer": "ipython3",
      "version": "3.11.3"
    }
  },
  "nbformat": 4,
  "nbformat_minor": 5
}
